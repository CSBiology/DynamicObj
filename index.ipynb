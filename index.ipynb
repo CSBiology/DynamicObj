
        {
            "cells": [
          {
           "cell_type": "code",
           "metadata": {},
            "execution_count": null, "outputs": [], 
           "source": ["#r \"nuget: Plotly.NET, 0.1.0\"\n",
"#r \"nuget: Plotly.NET.Interactive, 0.1.0\"\n",
"#r \"nuget: Plotly.NET.ImageExport, 0.1.0\"\n"]
          }
,
          {
           "cell_type": "markdown",
           "metadata": {},
           
           "source": ["[![Binder](https://csbiology.github.io/DynamicObj/img/badge-binder.svg)](https://mybinder.org/v2/gh/CSBiology/DynamicObj/gh-pages?filepath=index.ipynb)\u0026emsp;\n",
"[![Script](https://csbiology.github.io/DynamicObj/img/badge-script.svg)](https://csbiology.github.io/DynamicObj/index.fsx)\u0026emsp;\n",
"[![Notebook](https://csbiology.github.io/DynamicObj/img/badge-notebook.svg)](https://csbiology.github.io/DynamicObj/index.ipynb)\n",
"\n",
"# DynamicObj\n",
"\n",
"F# library supporting Dynamic Objects including inheritance in functional style. It builds on ´System.Dynamic´ but adds object inheritance.\n",
"\n",
"One main use case of this library is the dynamic generation of JSON objects - especially nested objects with optional properties - aimed to be used from javascript wuith the init/style pattern:\n",
"\n",
"Use it for your custom types via inheritance:\n",
"\n"]
          }
,
          {
           "cell_type": "code",
           "metadata": {},
            "execution_count": 2, "outputs": [], 
           "source": ["#r \"nuget: Newtonsoft.JSON, 12.0.3\"\n",
"open Newtonsoft.Json\n",
"open DynamicObj\n",
"\n",
"type A() = \n",
"    inherit DynamicObj()\n",
"\n",
"    static member init\n",
"        (\n",
"            ?SomeProp: int\n",
"        ) =\n",
"            A()\n",
"            |\u003e A.style\n",
"                (\n",
"                    ?SomeProp  = SomeProp\n",
"                )\n",
"\n",
"    static member style\n",
"        (\n",
"            ?SomeProp: int\n",
"        ) =\n",
"            fun (a:A) -\u003e\n",
"\n",
"                SomeProp |\u003e DynObj.setValueOpt a \"some_prop\"\n",
"\n",
"                a\n",
"\n",
"\n",
"let aSerialized =\n",
"    A.init(42)\n",
"    |\u003e JsonConvert.SerializeObject\n"]
          }
,
          {
           "cell_type": "code",
           "metadata": {},
            "execution_count": null, "outputs": [
          {
           "data": {
            "text/plain": ["\"{\"some_prop\":42}\""]
        },
           "execution_count": null,
           "metadata": {},
           "output_type": "execute_result"
          }], 
           "source": ["aSerialized\n"]
          }
,
          {
           "cell_type": "code",
           "metadata": {},
            "execution_count": 4, "outputs": [], 
           "source": ["type MyComplexJSONType() =\n",
"    inherit DynamicObj()\n",
"\n",
"    static member init\n",
"        (\n",
"            ?PropA: int [],\n",
"            ?PropB: A\n",
"        ) =\n",
"            MyComplexJSONType()\n",
"            |\u003e MyComplexJSONType.style\n",
"                (\n",
"                    ?PropA  = PropA,\n",
"                    ?PropB  = PropB\n",
"                )\n",
"\n",
"    static member style\n",
"        (\n",
"            ?PropA: int [],\n",
"            ?PropB: A\n",
"        ) =\n",
"            fun (t:MyComplexJSONType) -\u003e\n",
"\n",
"                PropA |\u003e DynObj.setValueOpt t \"prop_a\"\n",
"                PropB |\u003e DynObj.setValueOpt t \"prop_b\"\n",
"\n",
"                t\n",
"\n",
"let complexSerialized =\n",
"    MyComplexJSONType.init(\n",
"        PropA = [|42;1337|],\n",
"        PropB = A.init(68) // nested dynamic objects\n",
"    )\n",
"    |\u003e JsonConvert.SerializeObject\n"]
          }
,
          {
           "cell_type": "code",
           "metadata": {},
            "execution_count": null, "outputs": [
          {
           "data": {
            "text/plain": ["\"{\"prop_a\":[42,1337],\"prop_b\":{\"some_prop\":68}}\""]
        },
           "execution_count": null,
           "metadata": {},
           "output_type": "execute_result"
          }], 
           "source": ["complexSerialized\n"]
          }],
            "metadata": {
            "kernelspec": {"display_name": ".NET (F#)", "language": "F#", "name": ".net-fsharp"},
            "langauge_info": {
        "file_extension": ".fs",
        "mimetype": "text/x-fsharp",
        "name": "C#",
        "pygments_lexer": "fsharp",
        "version": "4.5"
        }
        },
            "nbformat": 4,
            "nbformat_minor": 1
        }
        

