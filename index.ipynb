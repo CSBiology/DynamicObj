
        {
            "cells": [
          {
           "cell_type": "code",
           "metadata": {},
            "execution_count": null, "outputs": [], 
           "source": ["#r \"nuget: DynamicObj, 0.2.0\"\n"]
          }
,
          {
           "cell_type": "markdown",
           "metadata": {},
           
           "source": ["[![Binder](https://csbiology.github.io/DynamicObj/img/badge-binder.svg)](https://mybinder.org/v2/gh/CSBiology/DynamicObj/gh-pages?filepath=index.ipynb)\u0026emsp;\n",
"[![Script](https://csbiology.github.io/DynamicObj/img/badge-script.svg)](https://csbiology.github.io/DynamicObj/index.fsx)\u0026emsp;\n",
"[![Notebook](https://csbiology.github.io/DynamicObj/img/badge-notebook.svg)](https://csbiology.github.io/DynamicObj/index.ipynb)\n",
"\n",
"# DynamicObj\n",
"\n",
"F# library supporting Dynamic Objects including inheritance in functional style.\n",
"\n",
"#### Table of contents\n",
"\n",
"- [DynamicObj (mutable)](#DynamicObj-mutable)\n",
"    - [Simple inheritance pattern for DynamicObj](#Simple-inheritance-pattern-for-DynamicObj)\n",
"    - [Nesting DynamicObjs](#Nesting-DynamicObjs)\n",
"- [ImmutableDynamicObj](#ImmutableDynamicObj)\n",
"    - [Simple inheritance pattern for ImmutableDynamicObj](#Simple-inheritance-pattern-for-ImmutableDynamicObj)\n",
"    - [Nesting ImmutableDynamicObjs](#Nesting-ImmutableDynamicObjs)\n",
"\n",
"# DynamicObj (mutable)\n",
"\n",
"`DynamicObj` builds on ´System.Dynamic´ but adds object inheritance.\n",
"\n",
"One main use case of this library is the dynamic generation of JSON objects - especially nested objects with optional properties - aimed to be used from javascript wuith the init/style pattern:\n",
"\n",
"Use it for your custom types via inheritance:\n",
"\n",
"## Simple inheritance pattern for DynamicObj\n",
"\n"]
          }
,
          {
           "cell_type": "code",
           "metadata": {},
            "execution_count": 2, "outputs": [], 
           "source": ["#r \"nuget: Newtonsoft.JSON, 12.0.3\"\n",
"open Newtonsoft.Json\n",
"open DynamicObj\n",
"\n",
"type A() = \n",
"    inherit DynamicObj()\n",
"\n",
"    static member init\n",
"        (\n",
"            ?SomeProp: int\n",
"        ) =\n",
"            A()\n",
"            |\u003e A.style\n",
"                (\n",
"                    ?SomeProp  = SomeProp\n",
"                )\n",
"\n",
"    static member style\n",
"        (\n",
"            ?SomeProp: int\n",
"        ) =\n",
"            fun (a:A) -\u003e\n",
"\n",
"                SomeProp |\u003e DynObj.setValueOpt a \"some_prop\"\n",
"\n",
"                a\n"]
          }
,
          {
           "cell_type": "markdown",
           "metadata": {},
           
           "source": ["You can use the `DynObj.print` function to look at the dynamic members of the object:\n"]
          }
,
          {
           "cell_type": "code",
           "metadata": {},
            "execution_count": 3, "outputs": [
          {
           "data": {
            "text/plain": ["?some_prop: 42"]
        },
           "execution_count": 3,
           "metadata": {},
           "output_type": "execute_result"
          }], 
           "source": ["A.init(42) |\u003e DynObj.print\n"]
          }
,
          {
           "cell_type": "markdown",
           "metadata": {},
           
           "source": ["And this is how the serialized JSON looks like:\n"]
          }
,
          {
           "cell_type": "code",
           "metadata": {},
            "execution_count": 4, "outputs": [], 
           "source": ["let aSerialized =\n",
"    A.init(42)\n",
"    |\u003e JsonConvert.SerializeObject\n"]
          }
,
          {
           "cell_type": "code",
           "metadata": {},
            "execution_count": null, "outputs": [
          {
           "data": {
            "text/plain": ["\"{\"some_prop\":42}\""]
        },
           "execution_count": null,
           "metadata": {},
           "output_type": "execute_result"
          }], 
           "source": ["aSerialized\n"]
          }
,
          {
           "cell_type": "markdown",
           "metadata": {},
           
           "source": ["## Nesting DynamicObjs\n"]
          }
,
          {
           "cell_type": "code",
           "metadata": {},
            "execution_count": 6, "outputs": [], 
           "source": ["type MyComplexJSONType() =\n",
"    inherit DynamicObj()\n",
"\n",
"    static member init\n",
"        (\n",
"            ?PropA: int [],\n",
"            ?PropB: A\n",
"        ) =\n",
"            MyComplexJSONType()\n",
"            |\u003e MyComplexJSONType.style\n",
"                (\n",
"                    ?PropA  = PropA,\n",
"                    ?PropB  = PropB\n",
"                )\n",
"\n",
"    static member style\n",
"        (\n",
"            ?PropA: int [],\n",
"            ?PropB: A\n",
"        ) =\n",
"            fun (t:MyComplexJSONType) -\u003e\n",
"\n",
"                PropA |\u003e DynObj.setValueOpt t \"prop_a\"\n",
"                PropB |\u003e DynObj.setValueOpt t \"prop_b\"\n",
"\n",
"                t\n",
"\n",
"let complex =\n",
"    MyComplexJSONType.init(\n",
"        PropA = [|42;1337|],\n",
"        PropB = A.init(68) // nested dynamic objects\n",
"    )\n",
"\n",
"let complexSerialized = \n",
"    complex\n",
"    |\u003e JsonConvert.SerializeObject\n"]
          }
,
          {
           "cell_type": "markdown",
           "metadata": {},
           
           "source": ["You can use the `DynObj.print` function to look at the dynamic members of the object:\n"]
          }
,
          {
           "cell_type": "code",
           "metadata": {},
            "execution_count": 14, "outputs": [
          {
           "data": {
            "text/plain": ["?prop_a: System.Int32[]",
"",
"?prop_b:",
"",
"    ?some_prop: 68"]
        },
           "execution_count": 14,
           "metadata": {},
           "output_type": "execute_result"
          }], 
           "source": ["complex |\u003e DynObj.print\n"]
          }
,
          {
           "cell_type": "markdown",
           "metadata": {},
           
           "source": ["And this is how the serialized JSON looks like:\n"]
          }
,
          {
           "cell_type": "code",
           "metadata": {},
            "execution_count": null, "outputs": [
          {
           "data": {
            "text/plain": ["\"{\"prop_a\":[42,1337],\"prop_b\":{\"some_prop\":68}}\""]
        },
           "execution_count": null,
           "metadata": {},
           "output_type": "execute_result"
          }], 
           "source": ["complexSerialized\n"]
          }
,
          {
           "cell_type": "markdown",
           "metadata": {},
           
           "source": ["## Simple inheritance pattern for ImmutableDynamicObj\n",
"\n"]
          }
,
          {
           "cell_type": "code",
           "metadata": {},
            "execution_count": 9, "outputs": [], 
           "source": ["#r \"nuget: Newtonsoft.JSON, 12.0.3\"\n",
"open Newtonsoft.Json\n",
"open DynamicObj\n",
"\n",
"type ImmutableA() = \n",
"    inherit ImmutableDynamicObj()\n",
"\n",
"    static member init\n",
"        (\n",
"            ?SomeProp: int\n",
"        ) =\n",
"            ImmutableA()\n",
"            |\u003e ImmutableA.style\n",
"                (\n",
"                    ?SomeProp  = SomeProp\n",
"                )\n",
"\n",
"    static member style\n",
"        (\n",
"            ?SomeProp: int\n",
"        ) =\n",
"            fun (a:ImmutableA) -\u003e\n",
"                a \n",
"                |\u003e ImmutableDynamicObj.addOpt \"some_prop\" SomeProp\n"]
          }
,
          {
           "cell_type": "markdown",
           "metadata": {},
           
           "source": ["You can use the `ImmutableDynamicObj.print` function to look at the dynamic members of the object:\n"]
          }
,
          {
           "cell_type": "code",
           "metadata": {},
            "execution_count": 10, "outputs": [
          {
           "data": {
            "text/plain": ["?some_prop: 42"]
        },
           "execution_count": 10,
           "metadata": {},
           "output_type": "execute_result"
          }], 
           "source": ["ImmutableA.init(42) |\u003e ImmutableDynamicObj.print\n"]
          }
,
          {
           "cell_type": "markdown",
           "metadata": {},
           
           "source": ["And this is how the serialized JSON looks like:\n"]
          }
,
          {
           "cell_type": "code",
           "metadata": {},
            "execution_count": 11, "outputs": [], 
           "source": ["let immutableASerialized =\n",
"    ImmutableA.init(42)\n",
"    |\u003e JsonConvert.SerializeObject\n"]
          }
,
          {
           "cell_type": "code",
           "metadata": {},
            "execution_count": null, "outputs": [
          {
           "data": {
            "text/plain": ["\"{\"some_prop\":42}\""]
        },
           "execution_count": null,
           "metadata": {},
           "output_type": "execute_result"
          }], 
           "source": ["immutableASerialized\n"]
          }
,
          {
           "cell_type": "markdown",
           "metadata": {},
           
           "source": ["## Nesting DynamicObjs\n",
"\n",
"`DynamicObj.Operators` adds usefull operators for adding properties:\n"]
          }
,
          {
           "cell_type": "code",
           "metadata": {},
            "execution_count": 13, "outputs": [], 
           "source": ["open DynamicObj.Operators\n",
"\n",
"type ImmutableMyComplexJSONType() =\n",
"    inherit ImmutableDynamicObj()\n",
"\n",
"    static member init\n",
"        (\n",
"            ?PropA: int [],\n",
"            ?PropB: A\n",
"        ) =\n",
"            ImmutableMyComplexJSONType()\n",
"            |\u003e ImmutableMyComplexJSONType.style\n",
"                (\n",
"                    ?PropA  = PropA,\n",
"                    ?PropB  = PropB\n",
"                )\n",
"\n",
"    static member style\n",
"        (\n",
"            ?PropA: int [],\n",
"            ?PropB: A\n",
"        ) =\n",
"            fun (t:ImmutableMyComplexJSONType) -\u003e\n",
"                t\n",
"                ++? (\"prop_a\", PropA)\n",
"                ++? (\"prop_b\", PropB)\n",
"\n",
"let immutableComplex =\n",
"    ImmutableMyComplexJSONType.init(\n",
"        PropA = [|42;1337|],\n",
"        PropB = A.init(68) // nested dynamic objects\n",
"    )\n",
"\n",
"let immutableComplexSerialized = \n",
"    immutableComplex\n",
"    |\u003e JsonConvert.SerializeObject\n"]
          }
,
          {
           "cell_type": "markdown",
           "metadata": {},
           
           "source": ["You can use the `DynObj.print` function to look at the dynamic members of the object:\n"]
          }
,
          {
           "cell_type": "code",
           "metadata": {},
            "execution_count": 14, "outputs": [
          {
           "data": {
            "text/plain": ["?prop_a: System.Int32[]",
"",
"?prop_b:",
"",
"    ?some_prop: 68"]
        },
           "execution_count": 14,
           "metadata": {},
           "output_type": "execute_result"
          }], 
           "source": ["complex |\u003e DynObj.print\n"]
          }
,
          {
           "cell_type": "markdown",
           "metadata": {},
           
           "source": ["And this is how the serialized JSON looks like:\n"]
          }
,
          {
           "cell_type": "code",
           "metadata": {},
            "execution_count": null, "outputs": [
          {
           "data": {
            "text/plain": ["\"{\"prop_a\":[42,1337],\"prop_b\":{\"some_prop\":68}}\""]
        },
           "execution_count": null,
           "metadata": {},
           "output_type": "execute_result"
          }], 
           "source": ["immutableComplexSerialized\n"]
          }],
            "metadata": {
            "kernelspec": {"display_name": ".NET (F#)", "language": "F#", "name": ".net-fsharp"},
            "langauge_info": {
        "file_extension": ".fs",
        "mimetype": "text/x-fsharp",
        "name": "C#",
        "pygments_lexer": "fsharp",
        "version": "4.5"
        }
        },
            "nbformat": 4,
            "nbformat_minor": 1
        }
        

